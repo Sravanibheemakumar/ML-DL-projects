{
 "cells": [
  {
   "cell_type": "code",
   "execution_count": 7,
   "id": "232c2428-3e33-4c88-9847-1e18de399682",
   "metadata": {},
   "outputs": [],
   "source": [
    "## Problem Statement: \n",
    "## developing machine learning of classification model to identify the text from the given dataset which is AI-generated or human-written text samples.\n",
    "## with the help of logistic regeression "
   ]
  },
  {
   "cell_type": "code",
   "execution_count": 1,
   "id": "f4011e49-93b9-4f9d-923f-a03c9e9e6495",
   "metadata": {},
   "outputs": [],
   "source": [
    "import numpy as np\n",
    "import pandas as pd\n",
    "import matplotlib.pyplot as plt\n",
    "import seaborn as sns"
   ]
  },
  {
   "cell_type": "code",
   "execution_count": 4,
   "id": "dc70cf7c-2f3e-4659-8e0b-80d684264723",
   "metadata": {},
   "outputs": [
    {
     "name": "stderr",
     "output_type": "stream",
     "text": [
      "[nltk_data] Downloading package stopwords to\n",
      "[nltk_data]     C:\\Users\\MYPC\\AppData\\Roaming\\nltk_data...\n",
      "[nltk_data]   Package stopwords is already up-to-date!\n"
     ]
    },
    {
     "data": {
      "text/plain": [
       "True"
      ]
     },
     "execution_count": 4,
     "metadata": {},
     "output_type": "execute_result"
    }
   ],
   "source": [
    "## to remove stopwords we need to install NLP library called natural language tool kit -> used for NLP tasks -> which helps in removing the stopwords,tf-idf, stemming,lemmatization\n",
    "import nltk\n",
    "nltk.download('stopwords')"
   ]
  },
  {
   "cell_type": "code",
   "execution_count": 5,
   "id": "392db0b5-4888-4b69-88d6-4718ff37bb25",
   "metadata": {},
   "outputs": [],
   "source": [
    "from nltk.corpus import stopwords\n",
    "from nltk.stem.porter import PorterStemmer\n",
    "## porterstemmer is used for stemming\n",
    "from sklearn.feature_extraction.text import TfidfVectorizer\n",
    "\n",
    "## importing the alogrithm which is required for binary classification -> Logistic Regression\n",
    "from sklearn.linear_model import LogisticRegression\n",
    "from sklearn.metrics import classification_report,accuracy_score, precision_score, recall_score, f1_score\n",
    "\n",
    "from sklearn.model_selection import train_test_split"
   ]
  },
  {
   "cell_type": "code",
   "execution_count": 6,
   "id": "08a15264-dbba-4de5-8a88-eeab700df5ce",
   "metadata": {},
   "outputs": [
    {
     "data": {
      "text/plain": [
       "list"
      ]
     },
     "execution_count": 6,
     "metadata": {},
     "output_type": "execute_result"
    }
   ],
   "source": [
    "## identifying the stopwords\n",
    "stopwords_list = stopwords.words('english')\n",
    "type(stopwords_list)"
   ]
  },
  {
   "cell_type": "code",
   "execution_count": 7,
   "id": "7c7faeca-4603-45cb-9ddb-1c94c340f891",
   "metadata": {},
   "outputs": [
    {
     "data": {
      "text/plain": [
       "198"
      ]
     },
     "execution_count": 7,
     "metadata": {},
     "output_type": "execute_result"
    }
   ],
   "source": [
    "len(stopwords_list)"
   ]
  },
  {
   "cell_type": "code",
   "execution_count": 8,
   "id": "d74da0d6-0425-4b17-8c9f-7c544752549f",
   "metadata": {},
   "outputs": [],
   "source": [
    "stopwords_list.remove(\"isn't\") \n",
    "## isn't is no longer stopword"
   ]
  },
  {
   "cell_type": "code",
   "execution_count": 9,
   "id": "af63acf5-6bf0-40dd-b0d0-00faf3c6c670",
   "metadata": {},
   "outputs": [
    {
     "data": {
      "text/plain": [
       "197"
      ]
     },
     "execution_count": 9,
     "metadata": {},
     "output_type": "execute_result"
    }
   ],
   "source": [
    "len(stopwords_list)"
   ]
  },
  {
   "cell_type": "code",
   "execution_count": 2,
   "id": "b9ba6826-c7d5-47c5-96b9-06b16c77680b",
   "metadata": {},
   "outputs": [
    {
     "data": {
      "text/html": [
       "<div>\n",
       "<style scoped>\n",
       "    .dataframe tbody tr th:only-of-type {\n",
       "        vertical-align: middle;\n",
       "    }\n",
       "\n",
       "    .dataframe tbody tr th {\n",
       "        vertical-align: top;\n",
       "    }\n",
       "\n",
       "    .dataframe thead th {\n",
       "        text-align: right;\n",
       "    }\n",
       "</style>\n",
       "<table border=\"1\" class=\"dataframe\">\n",
       "  <thead>\n",
       "    <tr style=\"text-align: right;\">\n",
       "      <th></th>\n",
       "      <th>text</th>\n",
       "      <th>generated</th>\n",
       "    </tr>\n",
       "  </thead>\n",
       "  <tbody>\n",
       "    <tr>\n",
       "      <th>0</th>\n",
       "      <td>Cars. Cars have been around since they became ...</td>\n",
       "      <td>0.0</td>\n",
       "    </tr>\n",
       "    <tr>\n",
       "      <th>1</th>\n",
       "      <td>Transportation is a large necessity in most co...</td>\n",
       "      <td>0.0</td>\n",
       "    </tr>\n",
       "    <tr>\n",
       "      <th>2</th>\n",
       "      <td>\"America's love affair with it's vehicles seem...</td>\n",
       "      <td>0.0</td>\n",
       "    </tr>\n",
       "    <tr>\n",
       "      <th>3</th>\n",
       "      <td>How often do you ride in a car? Do you drive a...</td>\n",
       "      <td>0.0</td>\n",
       "    </tr>\n",
       "    <tr>\n",
       "      <th>4</th>\n",
       "      <td>Cars are a wonderful thing. They are perhaps o...</td>\n",
       "      <td>0.0</td>\n",
       "    </tr>\n",
       "    <tr>\n",
       "      <th>...</th>\n",
       "      <td>...</td>\n",
       "      <td>...</td>\n",
       "    </tr>\n",
       "    <tr>\n",
       "      <th>487230</th>\n",
       "      <td>Tie Face on Mars is really just a big misunder...</td>\n",
       "      <td>0.0</td>\n",
       "    </tr>\n",
       "    <tr>\n",
       "      <th>487231</th>\n",
       "      <td>The whole purpose of democracy is to create a ...</td>\n",
       "      <td>0.0</td>\n",
       "    </tr>\n",
       "    <tr>\n",
       "      <th>487232</th>\n",
       "      <td>I firmly believe that governments worldwide sh...</td>\n",
       "      <td>1.0</td>\n",
       "    </tr>\n",
       "    <tr>\n",
       "      <th>487233</th>\n",
       "      <td>I DFN't agree with this decision because a LFT...</td>\n",
       "      <td>0.0</td>\n",
       "    </tr>\n",
       "    <tr>\n",
       "      <th>487234</th>\n",
       "      <td>Richard Non, Jimmy Carter, and Bob Dole and ot...</td>\n",
       "      <td>0.0</td>\n",
       "    </tr>\n",
       "  </tbody>\n",
       "</table>\n",
       "<p>487235 rows × 2 columns</p>\n",
       "</div>"
      ],
      "text/plain": [
       "                                                     text  generated\n",
       "0       Cars. Cars have been around since they became ...        0.0\n",
       "1       Transportation is a large necessity in most co...        0.0\n",
       "2       \"America's love affair with it's vehicles seem...        0.0\n",
       "3       How often do you ride in a car? Do you drive a...        0.0\n",
       "4       Cars are a wonderful thing. They are perhaps o...        0.0\n",
       "...                                                   ...        ...\n",
       "487230  Tie Face on Mars is really just a big misunder...        0.0\n",
       "487231  The whole purpose of democracy is to create a ...        0.0\n",
       "487232  I firmly believe that governments worldwide sh...        1.0\n",
       "487233  I DFN't agree with this decision because a LFT...        0.0\n",
       "487234  Richard Non, Jimmy Carter, and Bob Dole and ot...        0.0\n",
       "\n",
       "[487235 rows x 2 columns]"
      ]
     },
     "execution_count": 2,
     "metadata": {},
     "output_type": "execute_result"
    }
   ],
   "source": [
    "## import the dataset \n",
    "data = pd.read_csv(r'C:\\Users\\MYPC\\Downloads\\archive (1)\\AI_Human.csv')\n",
    "data"
   ]
  },
  {
   "cell_type": "code",
   "execution_count": 8,
   "id": "d9a5cf24-14b9-4b3b-8541-9603a8bed3b3",
   "metadata": {},
   "outputs": [
    {
     "data": {
      "text/plain": [
       "(487235, 2)"
      ]
     },
     "execution_count": 8,
     "metadata": {},
     "output_type": "execute_result"
    }
   ],
   "source": [
    "data.shape"
   ]
  },
  {
   "cell_type": "code",
   "execution_count": 3,
   "id": "6753cfc7-b035-4e13-b527-9015a302d11f",
   "metadata": {},
   "outputs": [],
   "source": [
    "df = data.copy()"
   ]
  },
  {
   "cell_type": "code",
   "execution_count": 9,
   "id": "6eca8e43-0558-4eb3-bf07-f62ac0739a13",
   "metadata": {},
   "outputs": [
    {
     "data": {
      "text/plain": [
       "generated\n",
       "0.0    305797\n",
       "1.0    181438\n",
       "Name: count, dtype: int64"
      ]
     },
     "execution_count": 9,
     "metadata": {},
     "output_type": "execute_result"
    }
   ],
   "source": [
    "counts = df['generated'].value_counts()\n",
    "counts  ## 0-AI and 1-Human"
   ]
  },
  {
   "cell_type": "code",
   "execution_count": 10,
   "id": "047a9a3b-fbcf-4ab6-b740-da50012724dd",
   "metadata": {},
   "outputs": [
    {
     "data": {
      "text/plain": [
       "0"
      ]
     },
     "execution_count": 10,
     "metadata": {},
     "output_type": "execute_result"
    }
   ],
   "source": [
    "df.duplicated().sum()  ## there are no duplicate values present in the given dataset"
   ]
  },
  {
   "cell_type": "code",
   "execution_count": 79,
   "id": "6b810a6f-343b-44ff-aaba-912c7cd8087d",
   "metadata": {},
   "outputs": [
    {
     "name": "stdout",
     "output_type": "stream",
     "text": [
      "Total : 487235\n",
      "Total text by AI : 181438\n",
      "Total text by Human : 305797\n"
     ]
    }
   ],
   "source": [
    "# Count total entries\n",
    "total_entries = len(df['generated'])\n",
    "\n",
    "# Count AI-generated text\n",
    "ai_generated_count = df['generated'].eq(1.0).sum()\n",
    "\n",
    "# Count human-generated text\n",
    "human_generated_count = df['generated'].eq(0.0).sum()\n",
    "\n",
    "# Print the results\n",
    "print(\"Total :\", total_entries)\n",
    "print(\"Total text by AI :\", ai_generated_count)\n",
    "print(\"Total text by Human :\", human_generated_count)"
   ]
  },
  {
   "cell_type": "code",
   "execution_count": 83,
   "id": "83be4031-ad76-4a56-9aa4-6e943dd7b77a",
   "metadata": {},
   "outputs": [
    {
     "name": "stdout",
     "output_type": "stream",
     "text": [
      "Percentage of text by AI: 37.24 %\n",
      "Percentage of text by Human: 62.76 %\n"
     ]
    }
   ],
   "source": [
    "percentage_ai = (ai_generated_count / total_entries) * 100\n",
    "percentage_human = (human_generated_count / total_entries) * 100\n",
    "\n",
    "print(\"Percentage of text by AI:\", round(percentage_ai, 2), \"%\")\n",
    "print(\"Percentage of text by Human:\", round(percentage_human, 2), \"%\")"
   ]
  },
  {
   "cell_type": "code",
   "execution_count": null,
   "id": "09bf85bf-bcb8-471a-a1b5-bdbf9a75e4c5",
   "metadata": {},
   "outputs": [],
   "source": [
    "## there are more human written text than AI, which means human written text is dominating"
   ]
  },
  {
   "cell_type": "code",
   "execution_count": 84,
   "id": "372b98ae-1d63-46b2-9d7b-79cc7eb9e4c5",
   "metadata": {},
   "outputs": [
    {
     "name": "stdout",
     "output_type": "stream",
     "text": [
      "<class 'pandas.core.frame.DataFrame'>\n",
      "RangeIndex: 487235 entries, 0 to 487234\n",
      "Data columns (total 2 columns):\n",
      " #   Column     Non-Null Count   Dtype  \n",
      "---  ------     --------------   -----  \n",
      " 0   text       487235 non-null  object \n",
      " 1   generated  487235 non-null  float64\n",
      "dtypes: float64(1), object(1)\n",
      "memory usage: 7.4+ MB\n"
     ]
    }
   ],
   "source": [
    "df.info()"
   ]
  },
  {
   "cell_type": "code",
   "execution_count": null,
   "id": "f244460e-b627-41ab-8d51-11ad4371aad9",
   "metadata": {},
   "outputs": [],
   "source": [
    "## there are no null values present in the dataset."
   ]
  },
  {
   "cell_type": "code",
   "execution_count": 85,
   "id": "1ad11db9-eab4-4bc8-af7d-192eabb5f682",
   "metadata": {},
   "outputs": [
    {
     "data": {
      "text/plain": [
       "count    487235.000000\n",
       "mean          0.372383\n",
       "std           0.483440\n",
       "min           0.000000\n",
       "25%           0.000000\n",
       "50%           0.000000\n",
       "75%           1.000000\n",
       "max           1.000000\n",
       "Name: generated, dtype: float64"
      ]
     },
     "execution_count": 85,
     "metadata": {},
     "output_type": "execute_result"
    }
   ],
   "source": [
    "df['generated'].describe().T"
   ]
  },
  {
   "cell_type": "code",
   "execution_count": 99,
   "id": "5d1ea81c-b53e-4760-a550-f12f56f388ad",
   "metadata": {},
   "outputs": [
    {
     "data": {
      "image/png": "[encoded data removed]",
      "text/plain": [
       "<Figure size 800x500 with 1 Axes>"
      ]
     },
     "metadata": {},
     "output_type": "display_data"
    }
   ],
   "source": [
    "## plotting barplot to check the distribution of generated column\n",
    "plt.figure(figsize = (8,5))\n",
    "counts.plot(kind = 'bar',color = ['green','blue'])\n",
    "plt.title('Distribution of text')\n",
    "plt.xlabel('Category')\n",
    "plt.ylabel('Text')\n",
    "plt.xticks(rotation = 45)\n",
    "plt.tight_layout()\n",
    "plt.show()"
   ]
  },
  {
   "cell_type": "code",
   "execution_count": 88,
   "id": "4fc15c98-461f-4e31-9aa1-a1488a82e97d",
   "metadata": {},
   "outputs": [
    {
     "data": {
      "image/png": "[encoded data removed]",
      "text/plain": [
       "<Figure size 800x500 with 1 Axes>"
      ]
     },
     "metadata": {},
     "output_type": "display_data"
    }
   ],
   "source": [
    "df['text_length'] = df['text'].apply(len)\n",
    "plt.figure(figsize=(8,5))\n",
    "sns.histplot(df['text_length'], bins=20, kde=True)\n",
    "plt.title(\"Distribution of Text Lengths\")\n",
    "plt.xlabel(\"Text Length\")\n",
    "plt.ylabel(\"Frequency\")\n",
    "plt.show()"
   ]
  },
  {
   "cell_type": "code",
   "execution_count": null,
   "id": "c7caf53d-9d7e-4c34-9193-0163b2d843cf",
   "metadata": {},
   "outputs": [],
   "source": [
    "## observations -> most of the text lie in between the range of 0-6000 of text length i.e. some the text are having more length."
   ]
  },
  {
   "cell_type": "code",
   "execution_count": 96,
   "id": "681f867e-faff-4e1e-a65f-30d87f54b872",
   "metadata": {},
   "outputs": [
    {
     "data": {
      "image/png": "[encoded data removed]",
      "text/plain": [
       "<Figure size 800x600 with 2 Axes>"
      ]
     },
     "metadata": {},
     "output_type": "display_data"
    }
   ],
   "source": [
    "correlation = df[['text_length','generated']].corr()\n",
    "plt.figure(figsize = (8,6))\n",
    "plt.title('Correlation matrix')\n",
    "sns.heatmap(correlation, cmap = 'coolwarm', annot = True, fmt = '.2f')\n",
    "plt.show()"
   ]
  },
  {
   "cell_type": "code",
   "execution_count": null,
   "id": "b4d75959-bafe-4330-b03a-7a08b72c21bd",
   "metadata": {},
   "outputs": [],
   "source": [
    "## text length is weakly correlated with generated column."
   ]
  },
  {
   "cell_type": "code",
   "execution_count": 15,
   "id": "55e400bc-dd2e-4a7e-8528-5dcae621506b",
   "metadata": {},
   "outputs": [
    {
     "data": {
      "text/plain": [
       "{'text': '\"America\\'s love affair with it\\'s vehicles seems to be cooling\" says Elisabeth rosenthal. To understand rosenthal\\'s perspective, it is easier to suggest that America\\'s car usage is decreasing slowly. This isn\\'t necessarily bad in the sense that it has certain positive effects. The advantages of limiting car usage includes an increase in security and health, along with a decrease in pollution and dependence.\\n\\nFirstly, when car usage is limited security and health is more likely to be guaranteed. The feeling of being secure is highly important to individuals everywhere. For example, many people in colombia used public transportation during a car free day \"leaving the streets of this capital city \", according to Andrew Selsky, \"eerily devoid of traffic jams\". The complications that stem from traffic jams end with a feeling of confidence. The plan to get from point A to B was more simple just a second ago. This complication in your personal plans leads you to become stressed as a feeling of doubt overcomes all thoughts. If car usage was limited, there would be a control on how much traffic accumulates thus minimizing chance of stress. As Heidrun Walter states \"when i had a car i was always tense. I\\'m much happier this way\". not only does car usage minimize conditions detrimental to health, it also enlarges your capacity for exercise. The main purpose of the car is to get someone from one place to another. when an important job takes over your personal life, it becomes difficult to do things most enjoyed in life. limits on car usage forces you to stay in shape. According to Andrew Selsky \"parks and sports centers also have bloomed throughout the city\". Less cars means healthier and natural situations. With parks and sport centers becoming more efficient, it becomes easier to find a more physically active population. Overall, less usage on cars minimizes stress and increases health.\\n\\nSecondly, limting car usage becomes beneficial to the environment. Now a days people have become annoyed with others who care so passionately about the environment. If you look behind their constant cries for action, there are solid facts. Yespollution is bad for the environment. Yes a bad envorment means unhealthy living. Yes cars are one of the main contributors to pollution in the environment. A pattern of less car usage, as Elisabeth Rosenthal states \"will have beneficial implications for carbon emissions and the environment\". The less use of cars, the less pollution in the environment. One must observe limiting car usage as an opportunity to create a cleaner world and better future. The effects of pollution in the environment is completley dangerous and we, the car users, are to blame.\\n\\nAdditionally, it would lower the dependence on cars. Many people today find that their car is so useful. While it has many features and is a form of transportation, many do not figure what they would do if they did not have such a possesion. The development of people and their interaction with technology has left a wide gap between historic, natural ways and what is thought of as modern society. Being dependent is not always good for individuals. As david goldberg says \"all our development since world war II has been centered on the car, and that will have to change\". Many people could disagree and wonder why it is necessary to change our ways especially if we are so highly devloped. If being developed means being dependent on a harmful machine, then it could not be effective devlopment. According to Elisabeth Rosenthal \"cashstrapped americans could not afford new cars, and the unemployed were\\'t going to work anyway\". Many people can\\'t have the precious luxury of private transportation in the first place. Those who have had it have become distant to a more natural society. Peope have become so use to having cars that they have become oblivious to the significant effects. With limits on car usage , these effcts could be controlled.\\n\\nTo conclude, the advantages of limiting car usage is an increase in health, along with a decrease in pollution, and less dependence on cars. limiting car usage is a positive way to enfore an organized and clean environment, and ensure health and security of those who live in it. This is one reason America can be reffered to as a succesful country. It is not that America has decreased use of vehicles, but the fact that they have done what is best for majority.',\n",
       " 'generated': 0.0}"
      ]
     },
     "execution_count": 15,
     "metadata": {},
     "output_type": "execute_result"
    }
   ],
   "source": [
    "df.iloc[2].to_dict()"
   ]
  },
  {
   "cell_type": "code",
   "execution_count": 16,
   "id": "d5cd84f4-3da8-42aa-b6d3-d61e8062fb2a",
   "metadata": {},
   "outputs": [],
   "source": [
    "stemmer = PorterStemmer()\n",
    "## creating object for stemming"
   ]
  },
  {
   "cell_type": "code",
   "execution_count": 17,
   "id": "24d16347-82d2-4c24-8e23-95eb48ecfda4",
   "metadata": {
    "scrolled": true
   },
   "outputs": [
    {
     "name": "stdout",
     "output_type": "stream",
     "text": [
      "\"America's love affair with it's vehicles seems to be cooling\" says Elisabeth rosenthal. To understand rosenthal's perspective, it is easier to suggest that America's car usage is decreasing slowly. This isn't necessarily bad in the sense that it has certain positive effects. The advantages of limiting car usage includes an increase in security and health, along with a decrease in pollution and dependence.\n",
      "\n",
      "Firstly, when car usage is limited security and health is more likely to be guaranteed. The feeling of being secure is highly important to individuals everywhere. For example, many people in colombia used public transportation during a car free day \"leaving the streets of this capital city \", according to Andrew Selsky, \"eerily devoid of traffic jams\". The complications that stem from traffic jams end with a feeling of confidence. The plan to get from point A to B was more simple just a second ago. This complication in your personal plans leads you to become stressed as a feeling of doubt overcomes all thoughts. If car usage was limited, there would be a control on how much traffic accumulates thus minimizing chance of stress. As Heidrun Walter states \"when i had a car i was always tense. I'm much happier this way\". not only does car usage minimize conditions detrimental to health, it also enlarges your capacity for exercise. The main purpose of the car is to get someone from one place to another. when an important job takes over your personal life, it becomes difficult to do things most enjoyed in life. limits on car usage forces you to stay in shape. According to Andrew Selsky \"parks and sports centers also have bloomed throughout the city\". Less cars means healthier and natural situations. With parks and sport centers becoming more efficient, it becomes easier to find a more physically active population. Overall, less usage on cars minimizes stress and increases health.\n",
      "\n",
      "Secondly, limting car usage becomes beneficial to the environment. Now a days people have become annoyed with others who care so passionately about the environment. If you look behind their constant cries for action, there are solid facts. Yespollution is bad for the environment. Yes a bad envorment means unhealthy living. Yes cars are one of the main contributors to pollution in the environment. A pattern of less car usage, as Elisabeth Rosenthal states \"will have beneficial implications for carbon emissions and the environment\". The less use of cars, the less pollution in the environment. One must observe limiting car usage as an opportunity to create a cleaner world and better future. The effects of pollution in the environment is completley dangerous and we, the car users, are to blame.\n",
      "\n",
      "Additionally, it would lower the dependence on cars. Many people today find that their car is so useful. While it has many features and is a form of transportation, many do not figure what they would do if they did not have such a possesion. The development of people and their interaction with technology has left a wide gap between historic, natural ways and what is thought of as modern society. Being dependent is not always good for individuals. As david goldberg says \"all our development since world war II has been centered on the car, and that will have to change\". Many people could disagree and wonder why it is necessary to change our ways especially if we are so highly devloped. If being developed means being dependent on a harmful machine, then it could not be effective devlopment. According to Elisabeth Rosenthal \"cashstrapped americans could not afford new cars, and the unemployed were't going to work anyway\". Many people can't have the precious luxury of private transportation in the first place. Those who have had it have become distant to a more natural society. Peope have become so use to having cars that they have become oblivious to the significant effects. With limits on car usage , these effcts could be controlled.\n",
      "\n",
      "To conclude, the advantages of limiting car usage is an increase in health, along with a decrease in pollution, and less dependence on cars. limiting car usage is a positive way to enfore an organized and clean environment, and ensure health and security of those who live in it. This is one reason America can be reffered to as a succesful country. It is not that America has decreased use of vehicles, but the fact that they have done what is best for majority.\n",
      "['america', 's', 'love', 'affair', 'with', 'it', 's', 'vehicles', 'seems', 'to', 'be', 'cooling', 'says', 'elisabeth', 'rosenthal', 'to', 'understand', 'rosenthal', 's', 'perspective', 'it', 'is', 'easier', 'to', 'suggest', 'that', 'america', 's', 'car', 'usage', 'is', 'decreasing', 'slowly', 'this', 'isn', 't', 'necessarily', 'bad', 'in', 'the', 'sense', 'that', 'it', 'has', 'certain', 'positive', 'effects', 'the', 'advantages', 'of', 'limiting', 'car', 'usage', 'includes', 'an', 'increase', 'in', 'security', 'and', 'health', 'along', 'with', 'a', 'decrease', 'in', 'pollution', 'and', 'dependence', 'firstly', 'when', 'car', 'usage', 'is', 'limited', 'security', 'and', 'health', 'is', 'more', 'likely', 'to', 'be', 'guaranteed', 'the', 'feeling', 'of', 'being', 'secure', 'is', 'highly', 'important', 'to', 'individuals', 'everywhere', 'for', 'example', 'many', 'people', 'in', 'colombia', 'used', 'public', 'transportation', 'during', 'a', 'car', 'free', 'day', 'leaving', 'the', 'streets', 'of', 'this', 'capital', 'city', 'according', 'to', 'andrew', 'selsky', 'eerily', 'devoid', 'of', 'traffic', 'jams', 'the', 'complications', 'that', 'stem', 'from', 'traffic', 'jams', 'end', 'with', 'a', 'feeling', 'of', 'confidence', 'the', 'plan', 'to', 'get', 'from', 'point', 'a', 'to', 'b', 'was', 'more', 'simple', 'just', 'a', 'second', 'ago', 'this', 'complication', 'in', 'your', 'personal', 'plans', 'leads', 'you', 'to', 'become', 'stressed', 'as', 'a', 'feeling', 'of', 'doubt', 'overcomes', 'all', 'thoughts', 'if', 'car', 'usage', 'was', 'limited', 'there', 'would', 'be', 'a', 'control', 'on', 'how', 'much', 'traffic', 'accumulates', 'thus', 'minimizing', 'chance', 'of', 'stress', 'as', 'heidrun', 'walter', 'states', 'when', 'i', 'had', 'a', 'car', 'i', 'was', 'always', 'tense', 'i', 'm', 'much', 'happier', 'this', 'way', 'not', 'only', 'does', 'car', 'usage', 'minimize', 'conditions', 'detrimental', 'to', 'health', 'it', 'also', 'enlarges', 'your', 'capacity', 'for', 'exercise', 'the', 'main', 'purpose', 'of', 'the', 'car', 'is', 'to', 'get', 'someone', 'from', 'one', 'place', 'to', 'another', 'when', 'an', 'important', 'job', 'takes', 'over', 'your', 'personal', 'life', 'it', 'becomes', 'difficult', 'to', 'do', 'things', 'most', 'enjoyed', 'in', 'life', 'limits', 'on', 'car', 'usage', 'forces', 'you', 'to', 'stay', 'in', 'shape', 'according', 'to', 'andrew', 'selsky', 'parks', 'and', 'sports', 'centers', 'also', 'have', 'bloomed', 'throughout', 'the', 'city', 'less', 'cars', 'means', 'healthier', 'and', 'natural', 'situations', 'with', 'parks', 'and', 'sport', 'centers', 'becoming', 'more', 'efficient', 'it', 'becomes', 'easier', 'to', 'find', 'a', 'more', 'physically', 'active', 'population', 'overall', 'less', 'usage', 'on', 'cars', 'minimizes', 'stress', 'and', 'increases', 'health', 'secondly', 'limting', 'car', 'usage', 'becomes', 'beneficial', 'to', 'the', 'environment', 'now', 'a', 'days', 'people', 'have', 'become', 'annoyed', 'with', 'others', 'who', 'care', 'so', 'passionately', 'about', 'the', 'environment', 'if', 'you', 'look', 'behind', 'their', 'constant', 'cries', 'for', 'action', 'there', 'are', 'solid', 'facts', 'yespollution', 'is', 'bad', 'for', 'the', 'environment', 'yes', 'a', 'bad', 'envorment', 'means', 'unhealthy', 'living', 'yes', 'cars', 'are', 'one', 'of', 'the', 'main', 'contributors', 'to', 'pollution', 'in', 'the', 'environment', 'a', 'pattern', 'of', 'less', 'car', 'usage', 'as', 'elisabeth', 'rosenthal', 'states', 'will', 'have', 'beneficial', 'implications', 'for', 'carbon', 'emissions', 'and', 'the', 'environment', 'the', 'less', 'use', 'of', 'cars', 'the', 'less', 'pollution', 'in', 'the', 'environment', 'one', 'must', 'observe', 'limiting', 'car', 'usage', 'as', 'an', 'opportunity', 'to', 'create', 'a', 'cleaner', 'world', 'and', 'better', 'future', 'the', 'effects', 'of', 'pollution', 'in', 'the', 'environment', 'is', 'completley', 'dangerous', 'and', 'we', 'the', 'car', 'users', 'are', 'to', 'blame', 'additionally', 'it', 'would', 'lower', 'the', 'dependence', 'on', 'cars', 'many', 'people', 'today', 'find', 'that', 'their', 'car', 'is', 'so', 'useful', 'while', 'it', 'has', 'many', 'features', 'and', 'is', 'a', 'form', 'of', 'transportation', 'many', 'do', 'not', 'figure', 'what', 'they', 'would', 'do', 'if', 'they', 'did', 'not', 'have', 'such', 'a', 'possesion', 'the', 'development', 'of', 'people', 'and', 'their', 'interaction', 'with', 'technology', 'has', 'left', 'a', 'wide', 'gap', 'between', 'historic', 'natural', 'ways', 'and', 'what', 'is', 'thought', 'of', 'as', 'modern', 'society', 'being', 'dependent', 'is', 'not', 'always', 'good', 'for', 'individuals', 'as', 'david', 'goldberg', 'says', 'all', 'our', 'development', 'since', 'world', 'war', 'ii', 'has', 'been', 'centered', 'on', 'the', 'car', 'and', 'that', 'will', 'have', 'to', 'change', 'many', 'people', 'could', 'disagree', 'and', 'wonder', 'why', 'it', 'is', 'necessary', 'to', 'change', 'our', 'ways', 'especially', 'if', 'we', 'are', 'so', 'highly', 'devloped', 'if', 'being', 'developed', 'means', 'being', 'dependent', 'on', 'a', 'harmful', 'machine', 'then', 'it', 'could', 'not', 'be', 'effective', 'devlopment', 'according', 'to', 'elisabeth', 'rosenthal', 'cashstrapped', 'americans', 'could', 'not', 'afford', 'new', 'cars', 'and', 'the', 'unemployed', 'were', 't', 'going', 'to', 'work', 'anyway', 'many', 'people', 'can', 't', 'have', 'the', 'precious', 'luxury', 'of', 'private', 'transportation', 'in', 'the', 'first', 'place', 'those', 'who', 'have', 'had', 'it', 'have', 'become', 'distant', 'to', 'a', 'more', 'natural', 'society', 'peope', 'have', 'become', 'so', 'use', 'to', 'having', 'cars', 'that', 'they', 'have', 'become', 'oblivious', 'to', 'the', 'significant', 'effects', 'with', 'limits', 'on', 'car', 'usage', 'these', 'effcts', 'could', 'be', 'controlled', 'to', 'conclude', 'the', 'advantages', 'of', 'limiting', 'car', 'usage', 'is', 'an', 'increase', 'in', 'health', 'along', 'with', 'a', 'decrease', 'in', 'pollution', 'and', 'less', 'dependence', 'on', 'cars', 'limiting', 'car', 'usage', 'is', 'a', 'positive', 'way', 'to', 'enfore', 'an', 'organized', 'and', 'clean', 'environment', 'and', 'ensure', 'health', 'and', 'security', 'of', 'those', 'who', 'live', 'in', 'it', 'this', 'is', 'one', 'reason', 'america', 'can', 'be', 'reffered', 'to', 'as', 'a', 'succesful', 'country', 'it', 'is', 'not', 'that', 'america', 'has', 'decreased', 'use', 'of', 'vehicles', 'but', 'the', 'fact', 'that', 'they', 'have', 'done', 'what', 'is', 'best', 'for', 'majority']\n",
      "['america', 'love', 'affair', 'vehicles', 'seems', 'cooling', 'says', 'elisabeth', 'rosenthal', 'understand', 'rosenthal', 'perspective', 'easier', 'suggest', 'america', 'car', 'usage', 'decreasing', 'slowly', 'necessarily', 'bad', 'sense', 'certain', 'positive', 'effects', 'advantages', 'limiting', 'car', 'usage', 'includes', 'increase', 'security', 'health', 'along', 'decrease', 'pollution', 'dependence', 'firstly', 'car', 'usage', 'limited', 'security', 'health', 'likely', 'guaranteed', 'feeling', 'secure', 'highly', 'important', 'individuals', 'everywhere', 'example', 'many', 'people', 'colombia', 'used', 'public', 'transportation', 'car', 'free', 'day', 'leaving', 'streets', 'capital', 'city', 'according', 'andrew', 'selsky', 'eerily', 'devoid', 'traffic', 'jams', 'complications', 'stem', 'traffic', 'jams', 'end', 'feeling', 'confidence', 'plan', 'get', 'point', 'b', 'simple', 'second', 'ago', 'complication', 'personal', 'plans', 'leads', 'become', 'stressed', 'feeling', 'doubt', 'overcomes', 'thoughts', 'car', 'usage', 'limited', 'would', 'control', 'much', 'traffic', 'accumulates', 'thus', 'minimizing', 'chance', 'stress', 'heidrun', 'walter', 'states', 'car', 'always', 'tense', 'much', 'happier', 'way', 'car', 'usage', 'minimize', 'conditions', 'detrimental', 'health', 'also', 'enlarges', 'capacity', 'exercise', 'main', 'purpose', 'car', 'get', 'someone', 'one', 'place', 'another', 'important', 'job', 'takes', 'personal', 'life', 'becomes', 'difficult', 'things', 'enjoyed', 'life', 'limits', 'car', 'usage', 'forces', 'stay', 'shape', 'according', 'andrew', 'selsky', 'parks', 'sports', 'centers', 'also', 'bloomed', 'throughout', 'city', 'less', 'cars', 'means', 'healthier', 'natural', 'situations', 'parks', 'sport', 'centers', 'becoming', 'efficient', 'becomes', 'easier', 'find', 'physically', 'active', 'population', 'overall', 'less', 'usage', 'cars', 'minimizes', 'stress', 'increases', 'health', 'secondly', 'limting', 'car', 'usage', 'becomes', 'beneficial', 'environment', 'days', 'people', 'become', 'annoyed', 'others', 'care', 'passionately', 'environment', 'look', 'behind', 'constant', 'cries', 'action', 'solid', 'facts', 'yespollution', 'bad', 'environment', 'yes', 'bad', 'envorment', 'means', 'unhealthy', 'living', 'yes', 'cars', 'one', 'main', 'contributors', 'pollution', 'environment', 'pattern', 'less', 'car', 'usage', 'elisabeth', 'rosenthal', 'states', 'beneficial', 'implications', 'carbon', 'emissions', 'environment', 'less', 'use', 'cars', 'less', 'pollution', 'environment', 'one', 'must', 'observe', 'limiting', 'car', 'usage', 'opportunity', 'create', 'cleaner', 'world', 'better', 'future', 'effects', 'pollution', 'environment', 'completley', 'dangerous', 'car', 'users', 'blame', 'additionally', 'would', 'lower', 'dependence', 'cars', 'many', 'people', 'today', 'find', 'car', 'useful', 'many', 'features', 'form', 'transportation', 'many', 'figure', 'would', 'possesion', 'development', 'people', 'interaction', 'technology', 'left', 'wide', 'gap', 'historic', 'natural', 'ways', 'thought', 'modern', 'society', 'dependent', 'always', 'good', 'individuals', 'david', 'goldberg', 'says', 'development', 'since', 'world', 'war', 'ii', 'centered', 'car', 'change', 'many', 'people', 'could', 'disagree', 'wonder', 'necessary', 'change', 'ways', 'especially', 'highly', 'devloped', 'developed', 'means', 'dependent', 'harmful', 'machine', 'could', 'effective', 'devlopment', 'according', 'elisabeth', 'rosenthal', 'cashstrapped', 'americans', 'could', 'afford', 'new', 'cars', 'unemployed', 'going', 'work', 'anyway', 'many', 'people', 'precious', 'luxury', 'private', 'transportation', 'first', 'place', 'become', 'distant', 'natural', 'society', 'peope', 'become', 'use', 'cars', 'become', 'oblivious', 'significant', 'effects', 'limits', 'car', 'usage', 'effcts', 'could', 'controlled', 'conclude', 'advantages', 'limiting', 'car', 'usage', 'increase', 'health', 'along', 'decrease', 'pollution', 'less', 'dependence', 'cars', 'limiting', 'car', 'usage', 'positive', 'way', 'enfore', 'organized', 'clean', 'environment', 'ensure', 'health', 'security', 'live', 'one', 'reason', 'america', 'reffered', 'succesful', 'country', 'america', 'decreased', 'use', 'vehicles', 'fact', 'done', 'best', 'majority']\n",
      "['america', 'love', 'affair', 'vehicl', 'seem', 'cool', 'say', 'elisabeth', 'rosenth', 'understand', 'rosenth', 'perspect', 'easier', 'suggest', 'america', 'car', 'usag', 'decreas', 'slowli', 'necessarili', 'bad', 'sens', 'certain', 'posit', 'effect', 'advantag', 'limit', 'car', 'usag', 'includ', 'increas', 'secur', 'health', 'along', 'decreas', 'pollut', 'depend', 'firstli', 'car', 'usag', 'limit', 'secur', 'health', 'like', 'guarante', 'feel', 'secur', 'highli', 'import', 'individu', 'everywher', 'exampl', 'mani', 'peopl', 'colombia', 'use', 'public', 'transport', 'car', 'free', 'day', 'leav', 'street', 'capit', 'citi', 'accord', 'andrew', 'selski', 'eerili', 'devoid', 'traffic', 'jam', 'complic', 'stem', 'traffic', 'jam', 'end', 'feel', 'confid', 'plan', 'get', 'point', 'b', 'simpl', 'second', 'ago', 'complic', 'person', 'plan', 'lead', 'becom', 'stress', 'feel', 'doubt', 'overcom', 'thought', 'car', 'usag', 'limit', 'would', 'control', 'much', 'traffic', 'accumul', 'thu', 'minim', 'chanc', 'stress', 'heidrun', 'walter', 'state', 'car', 'alway', 'tens', 'much', 'happier', 'way', 'car', 'usag', 'minim', 'condit', 'detriment', 'health', 'also', 'enlarg', 'capac', 'exercis', 'main', 'purpos', 'car', 'get', 'someon', 'one', 'place', 'anoth', 'import', 'job', 'take', 'person', 'life', 'becom', 'difficult', 'thing', 'enjoy', 'life', 'limit', 'car', 'usag', 'forc', 'stay', 'shape', 'accord', 'andrew', 'selski', 'park', 'sport', 'center', 'also', 'bloom', 'throughout', 'citi', 'less', 'car', 'mean', 'healthier', 'natur', 'situat', 'park', 'sport', 'center', 'becom', 'effici', 'becom', 'easier', 'find', 'physic', 'activ', 'popul', 'overal', 'less', 'usag', 'car', 'minim', 'stress', 'increas', 'health', 'secondli', 'limt', 'car', 'usag', 'becom', 'benefici', 'environ', 'day', 'peopl', 'becom', 'annoy', 'other', 'care', 'passion', 'environ', 'look', 'behind', 'constant', 'cri', 'action', 'solid', 'fact', 'yespollut', 'bad', 'environ', 'ye', 'bad', 'envor', 'mean', 'unhealthi', 'live', 'ye', 'car', 'one', 'main', 'contributor', 'pollut', 'environ', 'pattern', 'less', 'car', 'usag', 'elisabeth', 'rosenth', 'state', 'benefici', 'implic', 'carbon', 'emiss', 'environ', 'less', 'use', 'car', 'less', 'pollut', 'environ', 'one', 'must', 'observ', 'limit', 'car', 'usag', 'opportun', 'creat', 'cleaner', 'world', 'better', 'futur', 'effect', 'pollut', 'environ', 'completley', 'danger', 'car', 'user', 'blame', 'addit', 'would', 'lower', 'depend', 'car', 'mani', 'peopl', 'today', 'find', 'car', 'use', 'mani', 'featur', 'form', 'transport', 'mani', 'figur', 'would', 'posses', 'develop', 'peopl', 'interact', 'technolog', 'left', 'wide', 'gap', 'histor', 'natur', 'way', 'thought', 'modern', 'societi', 'depend', 'alway', 'good', 'individu', 'david', 'goldberg', 'say', 'develop', 'sinc', 'world', 'war', 'ii', 'center', 'car', 'chang', 'mani', 'peopl', 'could', 'disagre', 'wonder', 'necessari', 'chang', 'way', 'especi', 'highli', 'devlop', 'develop', 'mean', 'depend', 'harm', 'machin', 'could', 'effect', 'devlop', 'accord', 'elisabeth', 'rosenth', 'cashstrap', 'american', 'could', 'afford', 'new', 'car', 'unemploy', 'go', 'work', 'anyway', 'mani', 'peopl', 'preciou', 'luxuri', 'privat', 'transport', 'first', 'place', 'becom', 'distant', 'natur', 'societi', 'peop', 'becom', 'use', 'car', 'becom', 'oblivi', 'signific', 'effect', 'limit', 'car', 'usag', 'effct', 'could', 'control', 'conclud', 'advantag', 'limit', 'car', 'usag', 'increas', 'health', 'along', 'decreas', 'pollut', 'less', 'depend', 'car', 'limit', 'car', 'usag', 'posit', 'way', 'enfor', 'organ', 'clean', 'environ', 'ensur', 'health', 'secur', 'live', 'one', 'reason', 'america', 'reffer', 'succes', 'countri', 'america', 'decreas', 'use', 'vehicl', 'fact', 'done', 'best', 'major']\n",
      "america love affair vehicl seem cool say elisabeth rosenth understand rosenth perspect easier suggest america car usag decreas slowli necessarili bad sens certain posit effect advantag limit car usag includ increas secur health along decreas pollut depend firstli car usag limit secur health like guarante feel secur highli import individu everywher exampl mani peopl colombia use public transport car free day leav street capit citi accord andrew selski eerili devoid traffic jam complic stem traffic jam end feel confid plan get point b simpl second ago complic person plan lead becom stress feel doubt overcom thought car usag limit would control much traffic accumul thu minim chanc stress heidrun walter state car alway tens much happier way car usag minim condit detriment health also enlarg capac exercis main purpos car get someon one place anoth import job take person life becom difficult thing enjoy life limit car usag forc stay shape accord andrew selski park sport center also bloom throughout citi less car mean healthier natur situat park sport center becom effici becom easier find physic activ popul overal less usag car minim stress increas health secondli limt car usag becom benefici environ day peopl becom annoy other care passion environ look behind constant cri action solid fact yespollut bad environ ye bad envor mean unhealthi live ye car one main contributor pollut environ pattern less car usag elisabeth rosenth state benefici implic carbon emiss environ less use car less pollut environ one must observ limit car usag opportun creat cleaner world better futur effect pollut environ completley danger car user blame addit would lower depend car mani peopl today find car use mani featur form transport mani figur would posses develop peopl interact technolog left wide gap histor natur way thought modern societi depend alway good individu david goldberg say develop sinc world war ii center car chang mani peopl could disagre wonder necessari chang way especi highli devlop develop mean depend harm machin could effect devlop accord elisabeth rosenth cashstrap american could afford new car unemploy go work anyway mani peopl preciou luxuri privat transport first place becom distant natur societi peop becom use car becom oblivi signific effect limit car usag effct could control conclud advantag limit car usag increas health along decreas pollut less depend car limit car usag posit way enfor organ clean environ ensur health secur live one reason america reffer succes countri america decreas use vehicl fact done best major\n"
     ]
    }
   ],
   "source": [
    "import re\n",
    "i = 2\n",
    "print(df['text'][i])\n",
    "text = re.sub('[^a-zA-z0-9]',' ',df['text'][i])\n",
    "## remove special character from the text\n",
    "text = text.replace('\\n',' ')\n",
    "text = text.lower().split()\n",
    "print(text)\n",
    "\n",
    "clean_text = []\n",
    "## applying stopwords removal\n",
    "for word in text:\n",
    "    if not word in set(stopwords_list):\n",
    "        clean_text.append(word)\n",
    "print(clean_text)\n",
    "\n",
    "## apply stemming\n",
    "clean_text = [stemmer.stem(word) for word in clean_text]\n",
    "print(clean_text)\n",
    "clean_text = ' '.join(clean_text)\n",
    "print(clean_text)"
   ]
  },
  {
   "cell_type": "code",
   "execution_count": 18,
   "id": "0ee37566-970f-403c-94d8-ba690d29945f",
   "metadata": {},
   "outputs": [
    {
     "name": "stdout",
     "output_type": "stream",
     "text": [
      "america love affair vehicl seem cool say elisabeth rosenth understand rosenth perspect easier suggest america car usag decreas slowli necessarili bad sens certain posit effect advantag limit car usag includ increas secur health along decreas pollut depend firstli car usag limit secur health like guarante feel secur highli import individu everywher exampl mani peopl colombia use public transport car free day leav street capit citi accord andrew selski eerili devoid traffic jam complic stem traffic jam end feel confid plan get point b simpl second ago complic person plan lead becom stress feel doubt overcom thought car usag limit would control much traffic accumul thu minim chanc stress heidrun walter state car alway tens much happier way car usag minim condit detriment health also enlarg capac exercis main purpos car get someon one place anoth import job take person life becom difficult thing enjoy life limit car usag forc stay shape accord andrew selski park sport center also bloom throughout citi less car mean healthier natur situat park sport center becom effici becom easier find physic activ popul overal less usag car minim stress increas health secondli limt car usag becom benefici environ day peopl becom annoy other care passion environ look behind constant cri action solid fact yespollut bad environ ye bad envor mean unhealthi live ye car one main contributor pollut environ pattern less car usag elisabeth rosenth state benefici implic carbon emiss environ less use car less pollut environ one must observ limit car usag opportun creat cleaner world better futur effect pollut environ completley danger car user blame addit would lower depend car mani peopl today find car use mani featur form transport mani figur would posses develop peopl interact technolog left wide gap histor natur way thought modern societi depend alway good individu david goldberg say develop sinc world war ii center car chang mani peopl could disagre wonder necessari chang way especi highli devlop develop mean depend harm machin could effect devlop accord elisabeth rosenth cashstrap american could afford new car unemploy go work anyway mani peopl preciou luxuri privat transport first place becom distant natur societi peop becom use car becom oblivi signific effect limit car usag effct could control conclud advantag limit car usag increas health along decreas pollut less depend car limit car usag posit way enfor organ clean environ ensur health secur live one reason america reffer succes countri america decreas use vehicl fact done best major\n"
     ]
    }
   ],
   "source": [
    "print(clean_text)"
   ]
  },
  {
   "cell_type": "code",
   "execution_count": 19,
   "id": "a853d767-a91f-4260-baac-ebb3a800faf7",
   "metadata": {},
   "outputs": [
    {
     "name": "stderr",
     "output_type": "stream",
     "text": [
      "100%|██████████████████████████████████████████████████████████████████████████████████████████| 10/10 [00:00<?, ?it/s]"
     ]
    },
    {
     "name": "stdout",
     "output_type": "stream",
     "text": [
      "0\n",
      "1\n",
      "2\n",
      "3\n",
      "4\n",
      "5\n",
      "6\n",
      "7\n",
      "8\n",
      "9\n"
     ]
    },
    {
     "name": "stderr",
     "output_type": "stream",
     "text": [
      "\n"
     ]
    }
   ],
   "source": [
    "from tqdm import tqdm\n",
    "## tqdm is used for tracking the progess of for loop\n",
    "for i in tqdm(range(10)):\n",
    "    print(i)"
   ]
  },
  {
   "cell_type": "code",
   "execution_count": 38,
   "id": "474d7fa2-8850-4bbd-94af-e00959021022",
   "metadata": {},
   "outputs": [
    {
     "name": "stderr",
     "output_type": "stream",
     "text": [
      "100%|████████████████████████████████████████████████████████████████████████| 487235/487235 [3:16:41<00:00, 41.29it/s]\n"
     ]
    }
   ],
   "source": [
    "corpus = []\n",
    "\n",
    "for i in tqdm(range(len(df))):\n",
    "    text = re.sub('[^a-zA-Z0-9]',' ',df['text'][i])\n",
    "    text = text.replace('\\n',' ')\n",
    "    text = text.split()\n",
    "    \n",
    "    clean_text = []\n",
    "    for word in text:\n",
    "        if not word in set(stopwords_list):\n",
    "            clean_text.append(word)\n",
    "\n",
    "# apply stemming\n",
    "    clean_text = [stemmer.stem(word) for word in clean_text]\n",
    "    celan_text = ' '.join(clean_text)\n",
    "    corpus.append(clean_text)\n",
    "                "
   ]
  },
  {
   "cell_type": "code",
   "execution_count": 37,
   "id": "5d29fc8f-65bf-4b1e-bd2c-dcdb473aeee4",
   "metadata": {
    "scrolled": true
   },
   "outputs": [
    {
     "data": {
      "text/plain": [
       "['develop',\n",
       " 'sinc',\n",
       " 'world',\n",
       " 'war',\n",
       " 'ii',\n",
       " 'center',\n",
       " 'car',\n",
       " 'chang',\n",
       " 'mr',\n",
       " 'goldberg',\n",
       " 'offici',\n",
       " 'transport',\n",
       " 'america',\n",
       " 'grow',\n",
       " 'coalit',\n",
       " 'promot',\n",
       " 'car',\n",
       " 'free',\n",
       " 'commun',\n",
       " 'said',\n",
       " 'world',\n",
       " 'chang',\n",
       " 'better',\n",
       " 'one',\n",
       " 'machin',\n",
       " 'man',\n",
       " 'creat',\n",
       " 'one',\n",
       " 'world',\n",
       " 'chang',\n",
       " 'invent',\n",
       " 'time',\n",
       " 'come',\n",
       " 'throne',\n",
       " 'car',\n",
       " 'reason',\n",
       " 'get',\n",
       " 'car',\n",
       " 'let',\n",
       " 'find',\n",
       " 'germani',\n",
       " 'come',\n",
       " 'faster',\n",
       " 'peopl',\n",
       " 'think',\n",
       " 'idea',\n",
       " 'call',\n",
       " 'smart',\n",
       " 'plan',\n",
       " 'take',\n",
       " 'hold',\n",
       " 'experiment',\n",
       " 'town',\n",
       " 'built',\n",
       " '2006',\n",
       " 'name',\n",
       " 'vauban',\n",
       " 'place',\n",
       " 'car',\n",
       " 'thing',\n",
       " 'past',\n",
       " 'peopl',\n",
       " 'everyday',\n",
       " 'drive',\n",
       " 'school',\n",
       " 'work',\n",
       " 'walk',\n",
       " 'bicycl',\n",
       " 'take',\n",
       " 'tram',\n",
       " 'town',\n",
       " 'suburb',\n",
       " 'smart',\n",
       " 'plan',\n",
       " 'revolutionari',\n",
       " 'build',\n",
       " 'town',\n",
       " 'depend',\n",
       " 'drive',\n",
       " '70',\n",
       " 'vaughn',\n",
       " 'famili',\n",
       " 'car',\n",
       " 'much',\n",
       " 'happier',\n",
       " 'everyday',\n",
       " 'anxieti',\n",
       " 'drive',\n",
       " 'motor',\n",
       " 'engin',\n",
       " 'car',\n",
       " 'everyday',\n",
       " '57',\n",
       " 'sold',\n",
       " 'car',\n",
       " 'move',\n",
       " 'small',\n",
       " 'town',\n",
       " 'vauban',\n",
       " 'car',\n",
       " 'free',\n",
       " 'suburb',\n",
       " 'town',\n",
       " 'grow',\n",
       " 'trend',\n",
       " 'across',\n",
       " 'europ',\n",
       " 'unit',\n",
       " 'state',\n",
       " 'mani',\n",
       " 'nation',\n",
       " 'effort',\n",
       " 'make',\n",
       " 'citi',\n",
       " 'town',\n",
       " 'suburb',\n",
       " 'denser',\n",
       " 'go',\n",
       " 'far',\n",
       " 'get',\n",
       " 'milk',\n",
       " 'egg',\n",
       " 'global',\n",
       " 'warn',\n",
       " 'huge',\n",
       " 'part',\n",
       " 'fight',\n",
       " 'make',\n",
       " 'earth',\n",
       " 'home',\n",
       " 'better',\n",
       " 'healthier',\n",
       " 'gener',\n",
       " 'gener',\n",
       " 'come',\n",
       " 'car',\n",
       " 'emit',\n",
       " 'ga',\n",
       " 'emiss',\n",
       " 'make',\n",
       " '12',\n",
       " 'greenhous',\n",
       " 'gase',\n",
       " 'environ',\n",
       " '50',\n",
       " 'percent',\n",
       " 'carintens',\n",
       " 'area',\n",
       " 'unit',\n",
       " 'state',\n",
       " 'around',\n",
       " 'world',\n",
       " 'franc',\n",
       " 'pari',\n",
       " 'heavi',\n",
       " 'smog',\n",
       " 'decid',\n",
       " 'partial',\n",
       " 'ban',\n",
       " 'drive',\n",
       " 'make',\n",
       " 'even',\n",
       " 'number',\n",
       " 'licens',\n",
       " 'plate',\n",
       " 'drive',\n",
       " 'fear',\n",
       " 'fine',\n",
       " 'congest',\n",
       " 'went',\n",
       " 'experi',\n",
       " 'blame',\n",
       " 'smog',\n",
       " 'diesel',\n",
       " 'fuel',\n",
       " 'use',\n",
       " 'car',\n",
       " 'fact',\n",
       " 'tax',\n",
       " 'polici',\n",
       " 'favor',\n",
       " 'diesel',\n",
       " 'fuel',\n",
       " 'gasolin',\n",
       " 'pari',\n",
       " 'smog',\n",
       " 'typic',\n",
       " 'capit',\n",
       " 'decreas',\n",
       " 'congest',\n",
       " 'citiy',\n",
       " 'enorm',\n",
       " 'victori',\n",
       " 'decid',\n",
       " 'go',\n",
       " 'odd',\n",
       " 'number',\n",
       " 'licens',\n",
       " 'car',\n",
       " 'car',\n",
       " 'cultur',\n",
       " 'one',\n",
       " 'enorm',\n",
       " 'effect',\n",
       " 'everyday',\n",
       " 'live',\n",
       " 'citizen',\n",
       " 'around',\n",
       " 'world',\n",
       " 'unit',\n",
       " 'state',\n",
       " 'recent',\n",
       " 'studi',\n",
       " 'suggest',\n",
       " 'american',\n",
       " 'buy',\n",
       " 'fewer',\n",
       " 'car',\n",
       " 'drive',\n",
       " 'less',\n",
       " 'get',\n",
       " 'fewer',\n",
       " 'licens',\n",
       " 'year',\n",
       " 'goe',\n",
       " 'america',\n",
       " 'car',\n",
       " 'cultur',\n",
       " 'turn',\n",
       " 'us',\n",
       " 'number',\n",
       " 'one',\n",
       " 'place',\n",
       " 'world',\n",
       " 'find',\n",
       " 'histori',\n",
       " 'one',\n",
       " 'planet',\n",
       " 'world',\n",
       " 'chang',\n",
       " 'innvent',\n",
       " 'peopl',\n",
       " 'want',\n",
       " 'greener',\n",
       " 'earth',\n",
       " 'benifit',\n",
       " 'own',\n",
       " 'car',\n",
       " 'everybodi',\n",
       " 'know',\n",
       " 'stress',\n",
       " 'car',\n",
       " 'matter',\n",
       " 'ho',\n",
       " 'much',\n",
       " 'help',\n",
       " 'car',\n",
       " 'insur',\n",
       " 'life',\n",
       " 'insur',\n",
       " 'car',\n",
       " 'payment',\n",
       " 'keep',\n",
       " 'car',\n",
       " 'danger',\n",
       " 'associ',\n",
       " 'car',\n",
       " 'stress',\n",
       " 'plu',\n",
       " 'anxieti',\n",
       " 'come',\n",
       " 'car',\n",
       " 'con',\n",
       " 'outweight',\n",
       " 'pro',\n",
       " 'pro',\n",
       " 'enorm',\n",
       " 'effect',\n",
       " 'peopl',\n",
       " 'chang',\n",
       " 'percentil',\n",
       " 'teenag',\n",
       " 'young',\n",
       " 'adult',\n",
       " 'drope',\n",
       " 'ten',\n",
       " 'fold',\n",
       " 'get',\n",
       " 'renew',\n",
       " 'licens',\n",
       " 'new',\n",
       " 'trend',\n",
       " 'peopl',\n",
       " 'longer',\n",
       " 'get',\n",
       " 'car',\n",
       " 'licens',\n",
       " 'peopl',\n",
       " 'planet',\n",
       " 'earth',\n",
       " 'understand',\n",
       " 'pro',\n",
       " 'con',\n",
       " 'car',\n",
       " 'benifit',\n",
       " 'dive',\n",
       " 'make',\n",
       " 'chang',\n",
       " 'one',\n",
       " 'world',\n",
       " 'greatest',\n",
       " 'innvent',\n",
       " 'step',\n",
       " 'throne']"
      ]
     },
     "execution_count": 37,
     "metadata": {},
     "output_type": "execute_result"
    }
   ],
   "source": [
    "corpus[45]"
   ]
  },
  {
   "cell_type": "code",
   "execution_count": 39,
   "id": "a90a710a-5aaf-45fc-aa4c-5d5b02fb2ddf",
   "metadata": {},
   "outputs": [
    {
     "data": {
      "text/plain": [
       "197"
      ]
     },
     "execution_count": 39,
     "metadata": {},
     "output_type": "execute_result"
    }
   ],
   "source": [
    "vocab = []\n",
    "token_list = [vocab.extend(r.split()) for r in corpus[0]]\n",
    "vocab = set(vocab)\n",
    "len(vocab)"
   ]
  },
  {
   "cell_type": "code",
   "execution_count": 34,
   "id": "0b9d9269-a4eb-4e7c-b31e-3919f4a73a0f",
   "metadata": {},
   "outputs": [],
   "source": [
    "# 10 tokens in vocab\n",
    "# every sentence will get converted to a vector having 10 values"
   ]
  },
  {
   "cell_type": "code",
   "execution_count": 40,
   "id": "8bbc7c50-8c0b-4cb1-95f1-31ebebb0a20c",
   "metadata": {},
   "outputs": [],
   "source": [
    "# verctorize sentence using tf-idf\n",
    "vectorizer = TfidfVectorizer(max_features = 10000)\n",
    "# consider top most frequent words in corpus as features\n",
    "# max_features - is a hyperparameter"
   ]
  },
  {
   "cell_type": "code",
   "execution_count": 42,
   "id": "badd0920-9b8a-42e4-b133-d8b6405b1844",
   "metadata": {},
   "outputs": [],
   "source": [
    "corpus = [' '.join(doc) for doc in corpus]\n",
    "X = vectorizer.fit_transform(corpus)"
   ]
  },
  {
   "cell_type": "code",
   "execution_count": 43,
   "id": "74bdaac8-5b90-4850-b76c-2da08040a1b6",
   "metadata": {},
   "outputs": [
    {
     "data": {
      "text/plain": [
       "(487235, 10000)"
      ]
     },
     "execution_count": 43,
     "metadata": {},
     "output_type": "execute_result"
    }
   ],
   "source": [
    "X.shape\n",
    "# every text is converted to a vector having 100000 values"
   ]
  },
  {
   "cell_type": "code",
   "execution_count": 44,
   "id": "703a1041-9170-44d7-87a4-214d048cf4da",
   "metadata": {},
   "outputs": [
    {
     "data": {
      "text/plain": [
       "10000"
      ]
     },
     "execution_count": 44,
     "metadata": {},
     "output_type": "execute_result"
    }
   ],
   "source": [
    "len(vectorizer.vocabulary_.keys())\n",
    "# top 10000 most frequent words in corpus selected as features"
   ]
  },
  {
   "cell_type": "code",
   "execution_count": 45,
   "id": "432d90b6-496d-4d8f-8d7b-f4b25ca293b6",
   "metadata": {},
   "outputs": [
    {
     "name": "stdout",
     "output_type": "stream",
     "text": [
      "[<1x10000 sparse matrix of type '<class 'numpy.float64'>'\n",
      "\twith 191 stored elements in Compressed Sparse Row format>]\n"
     ]
    }
   ],
   "source": [
    "print(list(X[0]))"
   ]
  },
  {
   "cell_type": "code",
   "execution_count": 46,
   "id": "3f355695-ec1e-4cbb-8866-2e3fb017566b",
   "metadata": {},
   "outputs": [
    {
     "data": {
      "text/plain": [
       "0         0\n",
       "1         0\n",
       "2         0\n",
       "3         0\n",
       "4         0\n",
       "         ..\n",
       "487230    0\n",
       "487231    0\n",
       "487232    1\n",
       "487233    0\n",
       "487234    0\n",
       "Name: generated, Length: 487235, dtype: int64"
      ]
     },
     "execution_count": 46,
     "metadata": {},
     "output_type": "execute_result"
    }
   ],
   "source": [
    "y = df['generated'].apply(lambda x: 1 if x == 1.0 else 0 )\n",
    "y"
   ]
  },
  {
   "cell_type": "code",
   "execution_count": 68,
   "id": "c566ae27-6895-43f6-b466-cdc2f9f41a9d",
   "metadata": {},
   "outputs": [],
   "source": [
    "x_train,x_test,y_train,y_test = train_test_split(X,y,test_size = 0.2, random_state = 42, shuffle= True)"
   ]
  },
  {
   "cell_type": "code",
   "execution_count": 69,
   "id": "288058aa-db3b-47c1-8380-3ef7293e64f8",
   "metadata": {},
   "outputs": [
    {
     "data": {
      "text/plain": [
       "(389788, 10000)"
      ]
     },
     "execution_count": 69,
     "metadata": {},
     "output_type": "execute_result"
    }
   ],
   "source": [
    "x_train.shape"
   ]
  },
  {
   "cell_type": "code",
   "execution_count": 70,
   "id": "2007e6ee-66a1-4247-beca-34a289791ec8",
   "metadata": {},
   "outputs": [
    {
     "data": {
      "text/plain": [
       "generated\n",
       "0    244685\n",
       "1    145103\n",
       "Name: count, dtype: int64"
      ]
     },
     "execution_count": 70,
     "metadata": {},
     "output_type": "execute_result"
    }
   ],
   "source": [
    "y_train.value_counts()"
   ]
  },
  {
   "cell_type": "code",
   "execution_count": 71,
   "id": "66746ff7-138f-4797-8276-875e2f5dbdde",
   "metadata": {},
   "outputs": [
    {
     "data": {
      "text/plain": [
       "(97447, 10000)"
      ]
     },
     "execution_count": 71,
     "metadata": {},
     "output_type": "execute_result"
    }
   ],
   "source": [
    "x_test.shape"
   ]
  },
  {
   "cell_type": "code",
   "execution_count": 72,
   "id": "ae0cd1b5-2fab-4dd3-b26c-8201499a3cc0",
   "metadata": {},
   "outputs": [
    {
     "data": {
      "text/plain": [
       "generated\n",
       "0    61112\n",
       "1    36335\n",
       "Name: count, dtype: int64"
      ]
     },
     "execution_count": 72,
     "metadata": {},
     "output_type": "execute_result"
    }
   ],
   "source": [
    "y_test.value_counts()"
   ]
  },
  {
   "cell_type": "code",
   "execution_count": 73,
   "id": "d0d5f6c4-d925-4941-9757-d6dd3d819175",
   "metadata": {},
   "outputs": [
    {
     "data": {
      "text/html": [
       "<style>#sk-container-id-3 {\n",
       "  /* Definition of color scheme common for light and dark mode */\n",
       "  --sklearn-color-text: black;\n",
       "  --sklearn-color-line: gray;\n",
       "  /* Definition of color scheme for unfitted estimators */\n",
       "  --sklearn-color-unfitted-level-0: #fff5e6;\n",
       "  --sklearn-color-unfitted-level-1: #f6e4d2;\n",
       "  --sklearn-color-unfitted-level-2: #ffe0b3;\n",
       "  --sklearn-color-unfitted-level-3: chocolate;\n",
       "  /* Definition of color scheme for fitted estimators */\n",
       "  --sklearn-color-fitted-level-0: #f0f8ff;\n",
       "  --sklearn-color-fitted-level-1: #d4ebff;\n",
       "  --sklearn-color-fitted-level-2: #b3dbfd;\n",
       "  --sklearn-color-fitted-level-3: cornflowerblue;\n",
       "\n",
       "  /* Specific color for light theme */\n",
       "  --sklearn-color-text-on-default-background: var(--sg-text-color, var(--theme-code-foreground, var(--jp-content-font-color1, black)));\n",
       "  --sklearn-color-background: var(--sg-background-color, var(--theme-background, var(--jp-layout-color0, white)));\n",
       "  --sklearn-color-border-box: var(--sg-text-color, var(--theme-code-foreground, var(--jp-content-font-color1, black)));\n",
       "  --sklearn-color-icon: #696969;\n",
       "\n",
       "  @media (prefers-color-scheme: dark) {\n",
       "    /* Redefinition of color scheme for dark theme */\n",
       "    --sklearn-color-text-on-default-background: var(--sg-text-color, var(--theme-code-foreground, var(--jp-content-font-color1, white)));\n",
       "    --sklearn-color-background: var(--sg-background-color, var(--theme-background, var(--jp-layout-color0, #111)));\n",
       "    --sklearn-color-border-box: var(--sg-text-color, var(--theme-code-foreground, var(--jp-content-font-color1, white)));\n",
       "    --sklearn-color-icon: #878787;\n",
       "  }\n",
       "}\n",
       "\n",
       "#sk-container-id-3 {\n",
       "  color: var(--sklearn-color-text);\n",
       "}\n",
       "\n",
       "#sk-container-id-3 pre {\n",
       "  padding: 0;\n",
       "}\n",
       "\n",
       "#sk-container-id-3 input.sk-hidden--visually {\n",
       "  border: 0;\n",
       "  clip: rect(1px 1px 1px 1px);\n",
       "  clip: rect(1px, 1px, 1px, 1px);\n",
       "  height: 1px;\n",
       "  margin: -1px;\n",
       "  overflow: hidden;\n",
       "  padding: 0;\n",
       "  position: absolute;\n",
       "  width: 1px;\n",
       "}\n",
       "\n",
       "#sk-container-id-3 div.sk-dashed-wrapped {\n",
       "  border: 1px dashed var(--sklearn-color-line);\n",
       "  margin: 0 0.4em 0.5em 0.4em;\n",
       "  box-sizing: border-box;\n",
       "  padding-bottom: 0.4em;\n",
       "  background-color: var(--sklearn-color-background);\n",
       "}\n",
       "\n",
       "#sk-container-id-3 div.sk-container {\n",
       "  /* jupyter's `normalize.less` sets `[hidden] { display: none; }`\n",
       "     but bootstrap.min.css set `[hidden] { display: none !important; }`\n",
       "     so we also need the `!important` here to be able to override the\n",
       "     default hidden behavior on the sphinx rendered scikit-learn.org.\n",
       "     See: https://github.com/scikit-learn/scikit-learn/issues/21755 */\n",
       "  display: inline-block !important;\n",
       "  position: relative;\n",
       "}\n",
       "\n",
       "#sk-container-id-3 div.sk-text-repr-fallback {\n",
       "  display: none;\n",
       "}\n",
       "\n",
       "div.sk-parallel-item,\n",
       "div.sk-serial,\n",
       "div.sk-item {\n",
       "  /* draw centered vertical line to link estimators */\n",
       "  background-image: linear-gradient(var(--sklearn-color-text-on-default-background), var(--sklearn-color-text-on-default-background));\n",
       "  background-size: 2px 100%;\n",
       "  background-repeat: no-repeat;\n",
       "  background-position: center center;\n",
       "}\n",
       "\n",
       "/* Parallel-specific style estimator block */\n",
       "\n",
       "#sk-container-id-3 div.sk-parallel-item::after {\n",
       "  content: \"\";\n",
       "  width: 100%;\n",
       "  border-bottom: 2px solid var(--sklearn-color-text-on-default-background);\n",
       "  flex-grow: 1;\n",
       "}\n",
       "\n",
       "#sk-container-id-3 div.sk-parallel {\n",
       "  display: flex;\n",
       "  align-items: stretch;\n",
       "  justify-content: center;\n",
       "  background-color: var(--sklearn-color-background);\n",
       "  position: relative;\n",
       "}\n",
       "\n",
       "#sk-container-id-3 div.sk-parallel-item {\n",
       "  display: flex;\n",
       "  flex-direction: column;\n",
       "}\n",
       "\n",
       "#sk-container-id-3 div.sk-parallel-item:first-child::after {\n",
       "  align-self: flex-end;\n",
       "  width: 50%;\n",
       "}\n",
       "\n",
       "#sk-container-id-3 div.sk-parallel-item:last-child::after {\n",
       "  align-self: flex-start;\n",
       "  width: 50%;\n",
       "}\n",
       "\n",
       "#sk-container-id-3 div.sk-parallel-item:only-child::after {\n",
       "  width: 0;\n",
       "}\n",
       "\n",
       "/* Serial-specific style estimator block */\n",
       "\n",
       "#sk-container-id-3 div.sk-serial {\n",
       "  display: flex;\n",
       "  flex-direction: column;\n",
       "  align-items: center;\n",
       "  background-color: var(--sklearn-color-background);\n",
       "  padding-right: 1em;\n",
       "  padding-left: 1em;\n",
       "}\n",
       "\n",
       "\n",
       "/* Toggleable style: style used for estimator/Pipeline/ColumnTransformer box that is\n",
       "clickable and can be expanded/collapsed.\n",
       "- Pipeline and ColumnTransformer use this feature and define the default style\n",
       "- Estimators will overwrite some part of the style using the `sk-estimator` class\n",
       "*/\n",
       "\n",
       "/* Pipeline and ColumnTransformer style (default) */\n",
       "\n",
       "#sk-container-id-3 div.sk-toggleable {\n",
       "  /* Default theme specific background. It is overwritten whether we have a\n",
       "  specific estimator or a Pipeline/ColumnTransformer */\n",
       "  background-color: var(--sklearn-color-background);\n",
       "}\n",
       "\n",
       "/* Toggleable label */\n",
       "#sk-container-id-3 label.sk-toggleable__label {\n",
       "  cursor: pointer;\n",
       "  display: block;\n",
       "  width: 100%;\n",
       "  margin-bottom: 0;\n",
       "  padding: 0.5em;\n",
       "  box-sizing: border-box;\n",
       "  text-align: center;\n",
       "}\n",
       "\n",
       "#sk-container-id-3 label.sk-toggleable__label-arrow:before {\n",
       "  /* Arrow on the left of the label */\n",
       "  content: \"▸\";\n",
       "  float: left;\n",
       "  margin-right: 0.25em;\n",
       "  color: var(--sklearn-color-icon);\n",
       "}\n",
       "\n",
       "#sk-container-id-3 label.sk-toggleable__label-arrow:hover:before {\n",
       "  color: var(--sklearn-color-text);\n",
       "}\n",
       "\n",
       "/* Toggleable content - dropdown */\n",
       "\n",
       "#sk-container-id-3 div.sk-toggleable__content {\n",
       "  max-height: 0;\n",
       "  max-width: 0;\n",
       "  overflow: hidden;\n",
       "  text-align: left;\n",
       "  /* unfitted */\n",
       "  background-color: var(--sklearn-color-unfitted-level-0);\n",
       "}\n",
       "\n",
       "#sk-container-id-3 div.sk-toggleable__content.fitted {\n",
       "  /* fitted */\n",
       "  background-color: var(--sklearn-color-fitted-level-0);\n",
       "}\n",
       "\n",
       "#sk-container-id-3 div.sk-toggleable__content pre {\n",
       "  margin: 0.2em;\n",
       "  border-radius: 0.25em;\n",
       "  color: var(--sklearn-color-text);\n",
       "  /* unfitted */\n",
       "  background-color: var(--sklearn-color-unfitted-level-0);\n",
       "}\n",
       "\n",
       "#sk-container-id-3 div.sk-toggleable__content.fitted pre {\n",
       "  /* unfitted */\n",
       "  background-color: var(--sklearn-color-fitted-level-0);\n",
       "}\n",
       "\n",
       "#sk-container-id-3 input.sk-toggleable__control:checked~div.sk-toggleable__content {\n",
       "  /* Expand drop-down */\n",
       "  max-height: 200px;\n",
       "  max-width: 100%;\n",
       "  overflow: auto;\n",
       "}\n",
       "\n",
       "#sk-container-id-3 input.sk-toggleable__control:checked~label.sk-toggleable__label-arrow:before {\n",
       "  content: \"▾\";\n",
       "}\n",
       "\n",
       "/* Pipeline/ColumnTransformer-specific style */\n",
       "\n",
       "#sk-container-id-3 div.sk-label input.sk-toggleable__control:checked~label.sk-toggleable__label {\n",
       "  color: var(--sklearn-color-text);\n",
       "  background-color: var(--sklearn-color-unfitted-level-2);\n",
       "}\n",
       "\n",
       "#sk-container-id-3 div.sk-label.fitted input.sk-toggleable__control:checked~label.sk-toggleable__label {\n",
       "  background-color: var(--sklearn-color-fitted-level-2);\n",
       "}\n",
       "\n",
       "/* Estimator-specific style */\n",
       "\n",
       "/* Colorize estimator box */\n",
       "#sk-container-id-3 div.sk-estimator input.sk-toggleable__control:checked~label.sk-toggleable__label {\n",
       "  /* unfitted */\n",
       "  background-color: var(--sklearn-color-unfitted-level-2);\n",
       "}\n",
       "\n",
       "#sk-container-id-3 div.sk-estimator.fitted input.sk-toggleable__control:checked~label.sk-toggleable__label {\n",
       "  /* fitted */\n",
       "  background-color: var(--sklearn-color-fitted-level-2);\n",
       "}\n",
       "\n",
       "#sk-container-id-3 div.sk-label label.sk-toggleable__label,\n",
       "#sk-container-id-3 div.sk-label label {\n",
       "  /* The background is the default theme color */\n",
       "  color: var(--sklearn-color-text-on-default-background);\n",
       "}\n",
       "\n",
       "/* On hover, darken the color of the background */\n",
       "#sk-container-id-3 div.sk-label:hover label.sk-toggleable__label {\n",
       "  color: var(--sklearn-color-text);\n",
       "  background-color: var(--sklearn-color-unfitted-level-2);\n",
       "}\n",
       "\n",
       "/* Label box, darken color on hover, fitted */\n",
       "#sk-container-id-3 div.sk-label.fitted:hover label.sk-toggleable__label.fitted {\n",
       "  color: var(--sklearn-color-text);\n",
       "  background-color: var(--sklearn-color-fitted-level-2);\n",
       "}\n",
       "\n",
       "/* Estimator label */\n",
       "\n",
       "#sk-container-id-3 div.sk-label label {\n",
       "  font-family: monospace;\n",
       "  font-weight: bold;\n",
       "  display: inline-block;\n",
       "  line-height: 1.2em;\n",
       "}\n",
       "\n",
       "#sk-container-id-3 div.sk-label-container {\n",
       "  text-align: center;\n",
       "}\n",
       "\n",
       "/* Estimator-specific */\n",
       "#sk-container-id-3 div.sk-estimator {\n",
       "  font-family: monospace;\n",
       "  border: 1px dotted var(--sklearn-color-border-box);\n",
       "  border-radius: 0.25em;\n",
       "  box-sizing: border-box;\n",
       "  margin-bottom: 0.5em;\n",
       "  /* unfitted */\n",
       "  background-color: var(--sklearn-color-unfitted-level-0);\n",
       "}\n",
       "\n",
       "#sk-container-id-3 div.sk-estimator.fitted {\n",
       "  /* fitted */\n",
       "  background-color: var(--sklearn-color-fitted-level-0);\n",
       "}\n",
       "\n",
       "/* on hover */\n",
       "#sk-container-id-3 div.sk-estimator:hover {\n",
       "  /* unfitted */\n",
       "  background-color: var(--sklearn-color-unfitted-level-2);\n",
       "}\n",
       "\n",
       "#sk-container-id-3 div.sk-estimator.fitted:hover {\n",
       "  /* fitted */\n",
       "  background-color: var(--sklearn-color-fitted-level-2);\n",
       "}\n",
       "\n",
       "/* Specification for estimator info (e.g. \"i\" and \"?\") */\n",
       "\n",
       "/* Common style for \"i\" and \"?\" */\n",
       "\n",
       ".sk-estimator-doc-link,\n",
       "a:link.sk-estimator-doc-link,\n",
       "a:visited.sk-estimator-doc-link {\n",
       "  float: right;\n",
       "  font-size: smaller;\n",
       "  line-height: 1em;\n",
       "  font-family: monospace;\n",
       "  background-color: var(--sklearn-color-background);\n",
       "  border-radius: 1em;\n",
       "  height: 1em;\n",
       "  width: 1em;\n",
       "  text-decoration: none !important;\n",
       "  margin-left: 1ex;\n",
       "  /* unfitted */\n",
       "  border: var(--sklearn-color-unfitted-level-1) 1pt solid;\n",
       "  color: var(--sklearn-color-unfitted-level-1);\n",
       "}\n",
       "\n",
       ".sk-estimator-doc-link.fitted,\n",
       "a:link.sk-estimator-doc-link.fitted,\n",
       "a:visited.sk-estimator-doc-link.fitted {\n",
       "  /* fitted */\n",
       "  border: var(--sklearn-color-fitted-level-1) 1pt solid;\n",
       "  color: var(--sklearn-color-fitted-level-1);\n",
       "}\n",
       "\n",
       "/* On hover */\n",
       "div.sk-estimator:hover .sk-estimator-doc-link:hover,\n",
       ".sk-estimator-doc-link:hover,\n",
       "div.sk-label-container:hover .sk-estimator-doc-link:hover,\n",
       ".sk-estimator-doc-link:hover {\n",
       "  /* unfitted */\n",
       "  background-color: var(--sklearn-color-unfitted-level-3);\n",
       "  color: var(--sklearn-color-background);\n",
       "  text-decoration: none;\n",
       "}\n",
       "\n",
       "div.sk-estimator.fitted:hover .sk-estimator-doc-link.fitted:hover,\n",
       ".sk-estimator-doc-link.fitted:hover,\n",
       "div.sk-label-container:hover .sk-estimator-doc-link.fitted:hover,\n",
       ".sk-estimator-doc-link.fitted:hover {\n",
       "  /* fitted */\n",
       "  background-color: var(--sklearn-color-fitted-level-3);\n",
       "  color: var(--sklearn-color-background);\n",
       "  text-decoration: none;\n",
       "}\n",
       "\n",
       "/* Span, style for the box shown on hovering the info icon */\n",
       ".sk-estimator-doc-link span {\n",
       "  display: none;\n",
       "  z-index: 9999;\n",
       "  position: relative;\n",
       "  font-weight: normal;\n",
       "  right: .2ex;\n",
       "  padding: .5ex;\n",
       "  margin: .5ex;\n",
       "  width: min-content;\n",
       "  min-width: 20ex;\n",
       "  max-width: 50ex;\n",
       "  color: var(--sklearn-color-text);\n",
       "  box-shadow: 2pt 2pt 4pt #999;\n",
       "  /* unfitted */\n",
       "  background: var(--sklearn-color-unfitted-level-0);\n",
       "  border: .5pt solid var(--sklearn-color-unfitted-level-3);\n",
       "}\n",
       "\n",
       ".sk-estimator-doc-link.fitted span {\n",
       "  /* fitted */\n",
       "  background: var(--sklearn-color-fitted-level-0);\n",
       "  border: var(--sklearn-color-fitted-level-3);\n",
       "}\n",
       "\n",
       ".sk-estimator-doc-link:hover span {\n",
       "  display: block;\n",
       "}\n",
       "\n",
       "/* \"?\"-specific style due to the `<a>` HTML tag */\n",
       "\n",
       "#sk-container-id-3 a.estimator_doc_link {\n",
       "  float: right;\n",
       "  font-size: 1rem;\n",
       "  line-height: 1em;\n",
       "  font-family: monospace;\n",
       "  background-color: var(--sklearn-color-background);\n",
       "  border-radius: 1rem;\n",
       "  height: 1rem;\n",
       "  width: 1rem;\n",
       "  text-decoration: none;\n",
       "  /* unfitted */\n",
       "  color: var(--sklearn-color-unfitted-level-1);\n",
       "  border: var(--sklearn-color-unfitted-level-1) 1pt solid;\n",
       "}\n",
       "\n",
       "#sk-container-id-3 a.estimator_doc_link.fitted {\n",
       "  /* fitted */\n",
       "  border: var(--sklearn-color-fitted-level-1) 1pt solid;\n",
       "  color: var(--sklearn-color-fitted-level-1);\n",
       "}\n",
       "\n",
       "/* On hover */\n",
       "#sk-container-id-3 a.estimator_doc_link:hover {\n",
       "  /* unfitted */\n",
       "  background-color: var(--sklearn-color-unfitted-level-3);\n",
       "  color: var(--sklearn-color-background);\n",
       "  text-decoration: none;\n",
       "}\n",
       "\n",
       "#sk-container-id-3 a.estimator_doc_link.fitted:hover {\n",
       "  /* fitted */\n",
       "  background-color: var(--sklearn-color-fitted-level-3);\n",
       "}\n",
       "</style><div id=\"sk-container-id-3\" class=\"sk-top-container\"><div class=\"sk-text-repr-fallback\"><pre>LogisticRegression()</pre><b>In a Jupyter environment, please rerun this cell to show the HTML representation or trust the notebook. <br />On GitHub, the HTML representation is unable to render, please try loading this page with nbviewer.org.</b></div><div class=\"sk-container\" hidden><div class=\"sk-item\"><div class=\"sk-estimator fitted sk-toggleable\"><input class=\"sk-toggleable__control sk-hidden--visually\" id=\"sk-estimator-id-3\" type=\"checkbox\" checked><label for=\"sk-estimator-id-3\" class=\"sk-toggleable__label fitted sk-toggleable__label-arrow fitted\">&nbsp;&nbsp;LogisticRegression<a class=\"sk-estimator-doc-link fitted\" rel=\"noreferrer\" target=\"_blank\" href=\"https://scikit-learn.org/1.5/modules/generated/sklearn.linear_model.LogisticRegression.html\">?<span>Documentation for LogisticRegression</span></a><span class=\"sk-estimator-doc-link fitted\">i<span>Fitted</span></span></label><div class=\"sk-toggleable__content fitted\"><pre>LogisticRegression()</pre></div> </div></div></div></div>"
      ],
      "text/plain": [
       "LogisticRegression()"
      ]
     },
     "execution_count": 73,
     "metadata": {},
     "output_type": "execute_result"
    }
   ],
   "source": [
    "model = LogisticRegression()\n",
    "model.fit(x_train,y_train)"
   ]
  },
  {
   "cell_type": "code",
   "execution_count": 74,
   "id": "1ebf8218-9449-441f-82ae-a9294f76a022",
   "metadata": {},
   "outputs": [
    {
     "data": {
      "text/plain": [
       "array([0, 0, 1, ..., 1, 0, 1], dtype=int64)"
      ]
     },
     "execution_count": 74,
     "metadata": {},
     "output_type": "execute_result"
    }
   ],
   "source": [
    "y_pred = model.predict(x_train)\n",
    "y_pred"
   ]
  },
  {
   "cell_type": "code",
   "execution_count": 75,
   "id": "b236a59a-bd49-463d-8664-67eebc29ee0d",
   "metadata": {},
   "outputs": [
    {
     "name": "stdout",
     "output_type": "stream",
     "text": [
      "              precision    recall  f1-score   support\n",
      "\n",
      "           0       0.99      1.00      0.99    244685\n",
      "           1       0.99      0.99      0.99    145103\n",
      "\n",
      "    accuracy                           0.99    389788\n",
      "   macro avg       0.99      0.99      0.99    389788\n",
      "weighted avg       0.99      0.99      0.99    389788\n",
      "\n"
     ]
    }
   ],
   "source": [
    "print(classification_report(y_train,y_pred))"
   ]
  },
  {
   "cell_type": "code",
   "execution_count": 76,
   "id": "842cbb62-477b-4bbe-bcab-238914c3103f",
   "metadata": {},
   "outputs": [
    {
     "data": {
      "text/plain": [
       "array([0, 0, 0, ..., 0, 0, 1], dtype=int64)"
      ]
     },
     "execution_count": 76,
     "metadata": {},
     "output_type": "execute_result"
    }
   ],
   "source": [
    "y_pred = model.predict(x_test)\n",
    "y_pred"
   ]
  },
  {
   "cell_type": "code",
   "execution_count": 77,
   "id": "98b60b10-0a47-49fb-acb9-9b30cf234a31",
   "metadata": {},
   "outputs": [
    {
     "name": "stdout",
     "output_type": "stream",
     "text": [
      "Accuracy: 0.9916262173283938\n",
      "              precision    recall  f1-score   support\n",
      "\n",
      "           0       0.99      1.00      0.99     61112\n",
      "           1       0.99      0.98      0.99     36335\n",
      "\n",
      "    accuracy                           0.99     97447\n",
      "   macro avg       0.99      0.99      0.99     97447\n",
      "weighted avg       0.99      0.99      0.99     97447\n",
      "\n"
     ]
    }
   ],
   "source": [
    "print(f'Accuracy: {accuracy_score(y_test, y_pred)}')\n",
    "print(classification_report(y_test,y_pred))"
   ]
  },
  {
   "cell_type": "code",
   "execution_count": 110,
   "id": "5d8256c7-9356-46a3-a6c6-8de306c87880",
   "metadata": {},
   "outputs": [
    {
     "data": {
      "image/png": "[encoded data removed]",
      "text/plain": [
       "<Figure size 800x600 with 2 Axes>"
      ]
     },
     "metadata": {},
     "output_type": "display_data"
    }
   ],
   "source": [
    "from sklearn.metrics import confusion_matrix\n",
    "\n",
    "cm = confusion_matrix(y_test, y_pred)\n",
    "plt.figure(figsize = (8,6))\n",
    "sns.heatmap(cm, annot=True, fmt='d', cmap = 'Blues')\n",
    "plt.xlabel('Predicted values')\n",
    "plt.ylabel('Actual values')\n",
    "plt.title('Confusion Matrix Heatmap')\n",
    "plt.show()"
   ]
  },
  {
   "cell_type": "code",
   "execution_count": null,
   "id": "324a11ff-6d09-4a56-a434-85822b616b63",
   "metadata": {},
   "outputs": [],
   "source": []
  }
 ],
 "metadata": {
  "kernelspec": {
   "display_name": "Python 3 (ipykernel)",
   "language": "python",
   "name": "python3"
  },
  "language_info": {
   "codemirror_mode": {
    "name": "ipython",
    "version": 3
   },
   "file_extension": ".py",
   "mimetype": "text/x-python",
   "name": "python",
   "nbconvert_exporter": "python",
   "pygments_lexer": "ipython3",
   "version": "3.12.7"
  }
 },
 "nbformat": 4,
 "nbformat_minor": 5
}
